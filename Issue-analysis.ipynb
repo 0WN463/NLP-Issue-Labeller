{
 "cells": [
  {
   "cell_type": "code",
   "execution_count": 24,
   "metadata": {},
   "outputs": [
    {
     "name": "stdout",
     "output_type": "stream",
     "text": [
      "Overall\n",
      "-------\n",
      "Total number of tensorflow issues:19207\n",
      "Total number of rust issues:18022\n",
      "Total number of kubernetes issues:18955\n"
     ]
    }
   ],
   "source": [
    "# Jupyter Notebook for GitHub issue data analysis\n",
    "\n",
    "import pandas as pd\n",
    "\n",
    "# English repo\n",
    "df_tensorflow = pd.read_json('./data/eng_labelled/tensorflow.json')\n",
    "df_rust = pd.read_json('./data/eng_labelled/rust.json')\n",
    "df_kubernetes = pd.read_json('./data/eng_labelled/kubernetes.json')\n",
    "\n",
    "num_row_tensorflow = len(df_tensorflow.index)\n",
    "num_row_rust = len(df_rust.index)\n",
    "num_row_kubernetes = len(df_kubernetes.index)\n",
    "\n",
    "print('Overall')\n",
    "print('-------')\n",
    "print('Total number of tensorflow issues:' + str(num_row_tensorflow))\n",
    "print('Total number of rust issues:' + str(num_row_rust))\n",
    "print('Total number of kubernetes issues:' + str(num_row_kubernetes))"
   ]
  },
  {
   "cell_type": "code",
   "execution_count": 25,
   "metadata": {},
   "outputs": [
    {
     "name": "stdout",
     "output_type": "stream",
     "text": [
      "Tensorflow issue analysis\n",
      "-------------------------\n",
      "Number of feature issues:2461\n",
      "Number of bug issues:15098\n",
      "Number of doc issues:1648\n"
     ]
    }
   ],
   "source": [
    "# analysis on tensorflow issues\n",
    "count_feature = 0\n",
    "count_bug = 0\n",
    "count_build_install = 0\n",
    "count_performance = 0\n",
    "count_support = 0\n",
    "count_doc_feature = 0\n",
    "count_doc_bug = 0\n",
    "\n",
    "for _, row in df_tensorflow.iterrows():\n",
    "    # feature\n",
    "    if row['labels'] == 'type:feature': count_feature += 1\n",
    "    # bug\n",
    "    if row['labels'] == 'type:bug': count_bug += 1\n",
    "    if row['labels'] == 'type:build/install': count_build_install += 1\n",
    "    if row['labels'] == 'type:performance': count_performance += 1\n",
    "    if row['labels'] == 'type:support': count_support += 1\n",
    "    # doc\n",
    "    if row['labels'] == 'type:docs-feature': count_doc_feature += 1\n",
    "    if row['labels'] == 'type:docs-bug': count_doc_bug += 1\n",
    "\n",
    "num_feature = count_feature\n",
    "num_bug = count_bug + count_build_install + count_performance + count_support\n",
    "num_doc = count_doc_feature + count_doc_bug\n",
    "\n",
    "print('Tensorflow issue analysis')\n",
    "print('-------------------------')\n",
    "print('Number of feature issues:' + str(num_feature))\n",
    "print('Number of bug issues:' + str(num_bug))\n",
    "print('Number of doc issues:' + str(num_doc))"
   ]
  },
  {
   "cell_type": "code",
   "execution_count": 18,
   "metadata": {},
   "outputs": [
    {
     "name": "stdout",
     "output_type": "stream",
     "text": [
      "Rust issue analysis\n",
      "-------------------\n",
      "Number of feature issues:10163\n",
      "Number of bug issues:7049\n",
      "Number of doc issues:766\n"
     ]
    }
   ],
   "source": [
    "# analysis on rust issues\n",
    "count_feature_request = 0\n",
    "count_feature_accepted = 0\n",
    "count_enhancement = 0\n",
    "count_bug = 0\n",
    "count_doc = 0\n",
    "\n",
    "for _, row in df_rust.iterrows():\n",
    "    # feature\n",
    "    if row['labels'] == 'C-feature-request': count_feature_request += 1\n",
    "    if row['labels'] == 'C-feature-accepted': count_feature_accepted += 1\n",
    "    if row['labels'] == 'C-enhancement': count_enhancement += 1\n",
    "    # bug\n",
    "    if row['labels'] == 'C-bug': count_bug += 1\n",
    "    # doc\n",
    "    if row['labels'] == 'T-doc': count_doc += 1\n",
    "\n",
    "num_feature = count_feature_request + count_feature_accepted + count_enhancement\n",
    "num_bug = count_bug\n",
    "num_doc = count_doc\n",
    "        \n",
    "print('Rust issue analysis')\n",
    "print('-------------------')\n",
    "print('Number of feature issues:' + str(num_feature))\n",
    "print('Number of bug issues:' + str(num_bug))\n",
    "print('Number of doc issues:' + str(num_doc))"
   ]
  },
  {
   "cell_type": "code",
   "execution_count": 26,
   "metadata": {},
   "outputs": [
    {
     "name": "stdout",
     "output_type": "stream",
     "text": [
      "Kubernetes issue analysis\n",
      "-------------------------\n",
      "Number of feature issues:4302\n",
      "Number of bug issues:11695\n",
      "Number of doc issues:968\n"
     ]
    }
   ],
   "source": [
    "# analysis on kubernetes issues\n",
    "count_feature = 0\n",
    "count_api_change = 0\n",
    "count_bug = 0\n",
    "count_failing_test = 0\n",
    "count_doc = 0\n",
    "\n",
    "for _, row in df_kubernetes.iterrows():\n",
    "    # feature\n",
    "    if row['labels'] == 'kind/feature': count_feature += 1\n",
    "    if row['labels'] == 'kind/api-change': count_api_change += 1\n",
    "    # bug\n",
    "    if row['labels'] == 'kind/bug': count_bug += 1\n",
    "    if row['labels'] == 'kind/failing-test': count_failing_test += 1\n",
    "    # doc\n",
    "    if row['labels'] == 'kind/documentation': count_doc += 1\n",
    "\n",
    "num_feature = count_feature + count_api_change\n",
    "num_bug = count_bug + count_failing_test\n",
    "num_doc = count_doc\n",
    "\n",
    "print('Kubernetes issue analysis')\n",
    "print('-------------------------')\n",
    "print('Number of feature issues:' + str(num_feature))\n",
    "print('Number of bug issues:' + str(num_bug))\n",
    "print('Number of doc issues:' + str(num_doc))"
   ]
  },
  {
   "cell_type": "code",
   "execution_count": 20,
   "metadata": {},
   "outputs": [
    {
     "name": "stdout",
     "output_type": "stream",
     "text": [
      "German repo issue analysis\n",
      "--------------------------\n",
      "Total number of corona widget issues:192\n",
      "Total number of openWB issues:145\n"
     ]
    }
   ],
   "source": [
    "# German repo\n",
    "df_corona_widget = pd.read_json('./data/de_unlabelled/corona-widget.json')\n",
    "df_open_wb = pd.read_json('./data/de_unlabelled/openWB.json')\n",
    "\n",
    "num_corona_widget = len(df_corona_widget.index)\n",
    "num_open_wb = len(df_open_wb)\n",
    "\n",
    "print('German repo issue analysis')\n",
    "print('--------------------------')\n",
    "print('Total number of corona widget issues:' + str(num_corona_widget))\n",
    "print('Total number of openWB issues:' + str(num_open_wb))"
   ]
  },
  {
   "cell_type": "code",
   "execution_count": 19,
   "metadata": {},
   "outputs": [
    {
     "name": "stdout",
     "output_type": "stream",
     "text": [
      "French repo issue analysis\n",
      "--------------------------\n",
      "Total number of DVF-app issues:104\n",
      "Total number of Grafikart issues:313\n",
      "Total number of azure docs issues:247\n",
      "Total number of bcdlibre issues:36\n"
     ]
    }
   ],
   "source": [
    "# French repo\n",
    "df_dvf_app = pd.read_json('./data/fr_unlabelled/DVF-app.json')\n",
    "df_grafikart = pd.read_json('./data/fr_unlabelled/Grafikart.fr.json')\n",
    "df_azure_docs = pd.read_json('./data/fr_unlabelled/azure-docs.fr-fr.json')\n",
    "df_bcdlibre = pd.read_json('./data/fr_unlabelled/bcdlibre.json')\n",
    "\n",
    "num_row_dvf_app = len(df_dvf_app.index)\n",
    "num_grafikart = len(df_grafikart.index)\n",
    "num_azure_docs = len(df_azure_docs.index)\n",
    "num_bcdlibre = len(df_bcdlibre.index)\n",
    "\n",
    "print('French repo issue analysis')\n",
    "print('--------------------------')\n",
    "print('Total number of DVF-app issues:' + str(num_row_dvf_app))\n",
    "print('Total number of Grafikart issues:' + str(num_grafikart))\n",
    "print('Total number of azure docs issues:' + str(num_azure_docs))\n",
    "print('Total number of bcdlibre issues:' + str(num_bcdlibre))"
   ]
  },
  {
   "cell_type": "code",
   "execution_count": null,
   "metadata": {},
   "outputs": [],
   "source": []
  }
 ],
 "metadata": {
  "kernelspec": {
   "display_name": "Python 3",
   "language": "python",
   "name": "python3"
  },
  "language_info": {
   "codemirror_mode": {
    "name": "ipython",
    "version": 3
   },
   "file_extension": ".py",
   "mimetype": "text/x-python",
   "name": "python",
   "nbconvert_exporter": "python",
   "pygments_lexer": "ipython3",
   "version": "3.7.3"
  }
 },
 "nbformat": 4,
 "nbformat_minor": 2
}
