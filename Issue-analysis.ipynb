{
 "cells": [
  {
   "cell_type": "code",
   "execution_count": 5,
   "metadata": {},
   "outputs": [
    {
     "name": "stdout",
     "output_type": "stream",
     "text": [
      "Total number of tensorflow issues:19207\n",
      "Total number of kubernetes issues:18955\n",
      "Total number of rust issues:13705\n"
     ]
    }
   ],
   "source": [
    "# Jupyter Notebook for GitHub issue data analysis\n",
    "\n",
    "import pandas as pd\n",
    "\n",
    "df_tensorflow = pd.read_json('./data/tensorflow.json')\n",
    "df_kubernetes = pd.read_json('./data/kubernetes.json')\n",
    "df_rust = pd.read_json('./data/rust.json')\n",
    "\n",
    "num_row_tensorflow = len(df_tensorflow.index)\n",
    "num_row_kubernetes = len(df_kubernetes.index)\n",
    "num_row_rust = len(df_rust.index)\n",
    "\n",
    "print('Total number of tensorflow issues:' + str(num_row_tensorflow))\n",
    "print('Total number of kubernetes issues:' + str(num_row_kubernetes))\n",
    "print('Total number of rust issues:' + str(num_row_rust))"
   ]
  },
  {
   "cell_type": "code",
   "execution_count": null,
   "metadata": {},
   "outputs": [],
   "source": [
    "# TODO: analysis label compositions in each repo"
   ]
  },
  {
   "cell_type": "code",
   "execution_count": null,
   "metadata": {},
   "outputs": [],
   "source": []
  }
 ],
 "metadata": {
  "kernelspec": {
   "display_name": "Python 3",
   "language": "python",
   "name": "python3"
  },
  "language_info": {
   "codemirror_mode": {
    "name": "ipython",
    "version": 3
   },
   "file_extension": ".py",
   "mimetype": "text/x-python",
   "name": "python",
   "nbconvert_exporter": "python",
   "pygments_lexer": "ipython3",
   "version": "3.7.3"
  }
 },
 "nbformat": 4,
 "nbformat_minor": 2
}
